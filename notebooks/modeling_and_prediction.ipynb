{
  "nbformat": 4,
  "nbformat_minor": 0,
  "metadata": {
    "colab": {
      "provenance": [],
      "authorship_tag": "ABX9TyNxnLiJsoahqsCg89F6+Z6x",
      "include_colab_link": true
    },
    "kernelspec": {
      "name": "python3",
      "display_name": "Python 3"
    },
    "language_info": {
      "name": "python"
    }
  },
  "cells": [
    {
      "cell_type": "markdown",
      "metadata": {
        "id": "view-in-github",
        "colab_type": "text"
      },
      "source": [
        "<a href=\"https://colab.research.google.com/github/Giovanna-de-Oliveira/LH_CD_GIOVANNADASILVADEOLIVEIRA/blob/main/modeling_and_prediction.ipynb\" target=\"_parent\"><img src=\"https://colab.research.google.com/assets/colab-badge.svg\" alt=\"Open In Colab\"/></a>"
      ]
    },
    {
      "cell_type": "markdown",
      "source": [
        "# Previsão da Nota do IMDB"
      ],
      "metadata": {
        "id": "lluO-wiT1s7B"
      }
    },
    {
      "cell_type": "code",
      "source": [
        "import pandas as pd\n",
        "import numpy as np\n",
        "import matplotlib.pyplot as plt\n",
        "import seaborn as sns\n",
        "from sklearn.model_selection import train_test_split\n",
        "from sklearn.linear_model import LinearRegression\n",
        "from sklearn.metrics import mean_squared_error\n",
        "import pickle"
      ],
      "metadata": {
        "id": "hF_k8NP_KZF6"
      },
      "execution_count": 92,
      "outputs": []
    },
    {
      "cell_type": "markdown",
      "source": [
        "\n",
        "A escolha de um modelo de regressão linear para a predição de notas IMDB se deve pelas seguntes razões:\n",
        "\n",
        "1. **Interpretabilidade** -> A regressão linear fornece coeficientes que podem ser interpretados diretamente. Isso significa que é possível entender como cada variável de entrada contribui para a previsão da nota do IMDB.\n",
        "\n",
        "2.  **Simplicidade** -> É um modelo relativamente simples e fácil de entender, o que pode ser vantajoso para explicar os resultados a stakeholders não técnicos.\n",
        "\n",
        "3. **Eficiência computacional** -> Treinar e usar um modelo de regressão linear é computacionalmente mais eficiente em comparação com modelos mais complexos, o que pode ser importante ao lidar com grandes conjuntos de dados e treinamentos em ambientes mais computacionalmente limitados.\n",
        "\n",
        "4. **Boa performance inicial** -> Em muitos casos, um modelo de regressão linear pode fornecer uma performance aceitável como linha de base, antes de considerar modelos mais complexos que podem exigir mais ajustes e validação.\n"
      ],
      "metadata": {
        "id": "-bqwmHuVzB-0"
      }
    },
    {
      "cell_type": "markdown",
      "source": [
        "Já sobre os fatores contra:\n",
        "\n",
        "1. **Limitações na complexidade do relacionamento** -> A regressão linear assume uma relação linear entre as variáveis de entrada e a variável de saída. Se os dados possuem relações não-lineares complexas, um modelo de regressão linear pode não capturar essas nuances tão bem quanto modelos mais flexíveis.\n",
        "\n",
        "2. **Sensibilidade a outliers** -> A presença de outliers nos dados pode influenciar negativamente os coeficientes estimados pela regressão linear, afetando a precisão das previsões.\n",
        "\n",
        "3. **Assunções sobre os dados** -> A regressão linear faz certas suposições sobre os dados, como a independência das observações, normalidade dos erros e linearidade das relações. Se essas suposições não forem atendidas, a qualidade das previsões pode ser comprometida.\n",
        "\n",
        "4. **Não adequado para problemas não-lineares complexos** -> Para problemas onde as relações entre variáveis são altamente não-lineares ou há interações complexas entre as variáveis, modelos mais avançados como árvores de decisão, SVMs ou redes neurais podem oferecer melhor desempenho.\n"
      ],
      "metadata": {
        "id": "Q4fl0ip81GuQ"
      }
    },
    {
      "cell_type": "markdown",
      "source": [
        "Portanto, ao usar um modelo de regressão linear ao invés de qualquer outro modelo de regressão para prever notas IMDB, o objetivo de encontrar uma função que melhor se ajuste aos dados históricos para prever de forma precisa as notas de filmes não vistos anteriormente é atendido e comporta as limitações:."
      ],
      "metadata": {
        "id": "GlNMM1rc0T6u"
      }
    },
    {
      "source": [
        "\n",
        "# Carregar os dados\n",
        "df = pd.read_csv('/content/desafio_indicium_imdb.csv')\n",
        "\n",
        "# Preparar os dados para modelagem\n",
        "\n",
        " # Remover linhas com dados ausentes\n",
        "\n",
        "df = df.dropna(subset=['IMDB_Rating'])\n",
        "\n",
        "#Transformar variáveis preditoras em variáveis numéricas\n",
        "\n",
        "df['Meta_score'] = pd.to_numeric(df['Meta_score'])\n",
        "df['No_of_Votes'] = pd.to_numeric(df['No_of_Votes'])\n",
        "\n",
        "df['Runtime'] = df['Runtime'].str.replace(\" min\", \"\")\n",
        "df['Runtime'] = pd.to_numeric(df['Runtime'])\n",
        "\n",
        "df['Gross'] = df['Gross'].str.replace(\",\", \"\")\n",
        "df['Gross'] = pd.to_numeric(df['Gross'])\n",
        "\n",
        "# Preencher valores ausentes nas variáveis preditoras com a média (ou outra estratégia)\n",
        "df.fillna(df.select_dtypes(include=np.number).mean(), inplace=True)\n",
        "\n",
        "# Dividir os dados em variáveis preditoras (X) e variável alvo (y)\n",
        "X = df[['Meta_score', 'No_of_Votes','Runtime', 'Gross' ]]  # Variáveis preditoras (escolhidas pois tem o maior correlação de variáveis, visto no outro notebook)\n",
        "y = df['IMDB_Rating']  # Variável alvo\n",
        "\n",
        "# Dividir os dados em treino e teste\n",
        "X_train, X_test, y_train, y_test = train_test_split(X, y, test_size=0.2, random_state=42)\n",
        "\n",
        "# Treinar o modelo\n",
        "model = LinearRegression()\n",
        "model.fit(X_train, y_train)\n",
        "\n",
        "# Fazer previsões\n",
        "y_pred = model.predict(X_test)\n",
        "\n",
        "# Salvar o modelo\n",
        "with open('imdb_rating_model.pkl', 'wb') as f:\n",
        "    pickle.dump(model, f)"
      ],
      "cell_type": "code",
      "metadata": {
        "id": "vfEacBZRFmYo"
      },
      "execution_count": 93,
      "outputs": []
    },
    {
      "cell_type": "markdown",
      "source": [
        "As métricas utilizadas foram baseadas nas três primeiras variáveis mais relacionadas ao IMDB na fase exploratória dos dados.\n",
        "\n",
        "Assim, a predição se torna mais rápida por descartar valores de magnitude despreziva e mais assertiva pois irá considerar os fatos de maior probabilidade."
      ],
      "metadata": {
        "id": "6Zqk8d16z8FD"
      }
    },
    {
      "cell_type": "code",
      "source": [
        "# Avaliar o modelo\n",
        "mse = mean_squared_error(y_test, y_pred)\n",
        "rmse = np.sqrt(mse)\n",
        "print(f\"RMSE: {rmse}\")"
      ],
      "metadata": {
        "colab": {
          "base_uri": "https://localhost:8080/"
        },
        "id": "PerYZlphumf1",
        "outputId": "4c2dd197-121c-48d5-f32f-303d45427495"
      },
      "execution_count": 94,
      "outputs": [
        {
          "output_type": "stream",
          "name": "stdout",
          "text": [
            "RMSE: 0.22939477393089167\n"
          ]
        }
      ]
    },
    {
      "cell_type": "markdown",
      "source": [
        "O RMSE (Root Mean Squared Error) foi utilizado como métrica de avaliação porque mede a diferença média entre os valores previstos pelo modelo e os valores reais, sendo uma métrica popular para avaliar a precisão de modelos de regressão.\n",
        "\n",
        "Algumas razões pelas quais o RMSE é uma escolha apropriada para avaliação são:\n",
        "\n",
        "1. **Medida de erro** -> O RMSE mede a raiz quadrada da média dos quadrados dos erros entre as previsões do modelo e os valores reais. Isso fornece uma medida direta da dispersão dos erros, ou seja, o quão distantes as previsões estão dos valores verdadeiros de notas no IMDB.\n",
        "\n",
        "2. **Sensibilidade a grandes erros** -> Como o RMSE envolve o quadrado dos erros, ele tende a penalizar mais fortemente grandes erros individuais em comparação com métricas como o MAE (Mean Absolute Error). Isso é importante em problemas onde erros grandes podem ter um impacto significativo na qualidade da previsão.\n",
        "\n",
        "3. **Interpretabilidade** -> O RMSE é na mesma escala que a variável de saída (no nosso caso, a nota no IMDB), o que facilita a interpretação dos resultados em termos da precisão do modelo em relação às notas reais dos filmes.\n",
        "\n",
        "4. **Facilidade de cálculo e comparação** -> O RMSE é amplamente utilizado na literatura e facilita a comparação entre diferentes modelos de regressão linear ou outros modelos preditivos. Isso ajuda na escolha do modelo que oferece melhor desempenho de previsão para o problema específico.\n"
      ],
      "metadata": {
        "id": "1r9QFVUnumoR"
      }
    },
    {
      "cell_type": "markdown",
      "source": [
        "Logo,  pela natureza do problema de predição do IMDB,essa opção foi escolhida como avaliação do modelo."
      ],
      "metadata": {
        "id": "7IHVhEPW3z20"
      }
    },
    {
      "cell_type": "markdown",
      "source": [
        "# Previsão para o Filme Específico"
      ],
      "metadata": {
        "id": "YV6EN8-S1xGm"
      }
    },
    {
      "cell_type": "code",
      "source": [
        "# Características do filme \"The Shawshank Redemption\"\n",
        "\n",
        "Predicted_Film = {'Series_Title': 'The Shawshank Redemption',\n",
        " 'Released_Year': '1994',\n",
        " 'Certificate': 'A',\n",
        " 'Runtime': '142 min',\n",
        " 'Genre': 'Drama',\n",
        " 'Overview': 'Two imprisoned men bond over a number of years, finding solace and eventual redemption through acts of common decency.',\n",
        " 'Meta_score': 80.0,\n",
        " 'Director': 'Frank Darabont',\n",
        " 'Star1': 'Tim Robbins',\n",
        " 'Star2': 'Morgan Freeman',\n",
        " 'Star3': 'Bob Gunton',\n",
        " 'Star4': 'William Sadler',\n",
        " 'No_of_Votes': 2343110,\n",
        " 'Gross': '28,341,469'}\n",
        "\n",
        "\n",
        "Predicted_Film['Meta_score'] = pd.to_numeric(Predicted_Film['Meta_score'])\n",
        "Predicted_Film['No_of_Votes'] = pd.to_numeric(Predicted_Film['No_of_Votes'])\n",
        "\n",
        "Predicted_Film['Runtime'] = Predicted_Film['Runtime'].replace(\" min\", \"\")\n",
        "Predicted_Film['Runtime'] = pd.to_numeric(Predicted_Film['Runtime'])\n",
        "\n",
        "Predicted_Film['Gross'] = Predicted_Film['Gross'].replace(\",\", \"\")\n",
        "Predicted_Film['Gross'] = pd.to_numeric(Predicted_Film['Gross'])\n",
        "\n",
        "shawshank_features = np.array([Predicted_Film['Meta_score'], Predicted_Film['No_of_Votes'], Predicted_Film['Runtime'], Predicted_Film['Gross']])\n",
        "shawshank_features = shawshank_features.reshape(1, -1)\n",
        "\n",
        "\n",
        "# Carregar o modelo salvo\n",
        "with open('imdb_rating_model.pkl', 'rb') as f:\n",
        "    loaded_model = pickle.load(f)\n",
        "\n",
        "# Fazer a previsão\n",
        "shawshank_rating_pred = loaded_model.predict(shawshank_features)\n",
        "print(f\"A nota prevista para o filme 'The Shawshank Redemption' é: {shawshank_rating_pred[0]}\")\n"
      ],
      "metadata": {
        "id": "J8HDMneF1qtg",
        "colab": {
          "base_uri": "https://localhost:8080/"
        },
        "outputId": "ddacdee5-d44c-45af-a457-28e2e7259844"
      },
      "execution_count": 95,
      "outputs": [
        {
          "output_type": "stream",
          "name": "stdout",
          "text": [
            "A nota prevista para o filme 'The Shawshank Redemption' é: 9.1049792465477\n"
          ]
        },
        {
          "output_type": "stream",
          "name": "stderr",
          "text": [
            "/usr/local/lib/python3.10/dist-packages/sklearn/base.py:439: UserWarning: X does not have valid feature names, but LinearRegression was fitted with feature names\n",
            "  warnings.warn(\n"
          ]
        }
      ]
    },
    {
      "cell_type": "markdown",
      "source": [
        "Dado que o IMDB original do filme é 9,3 e a besa de dados não é exaustiva, o modelo conseguiu um desempenho bom para médio."
      ],
      "metadata": {
        "id": "cBYckoAyylZ8"
      }
    }
  ]
}
